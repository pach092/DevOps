{
  "nbformat": 4,
  "nbformat_minor": 0,
  "metadata": {
    "colab": {
      "name": "Untitled3.ipynb",
      "provenance": [],
      "authorship_tag": "ABX9TyP/JNTXBu47epIBz6h+Lkps",
      "include_colab_link": true
    },
    "kernelspec": {
      "name": "python3",
      "display_name": "Python 3"
    }
  },
  "cells": [
    {
      "cell_type": "markdown",
      "metadata": {
        "id": "view-in-github",
        "colab_type": "text"
      },
      "source": [
        "<a href=\"https://colab.research.google.com/github/pach092/DevOps/blob/master/Untitled3.ipynb\" target=\"_parent\"><img src=\"https://colab.research.google.com/assets/colab-badge.svg\" alt=\"Open In Colab\"/></a>"
      ]
    },
    {
      "cell_type": "code",
      "metadata": {
        "id": "SYyHI7dG4_qC",
        "outputId": "fd67ecef-a1b9-426f-cf26-57d5c592eef7",
        "colab": {
          "base_uri": "https://localhost:8080/",
          "height": 204
        }
      },
      "source": [
        "import pandas as pd\n",
        "\n",
        "def read_json():\n",
        "  df = pd.read_json(\"News_Category_Dataset_v2.json\", lines=True)\n",
        "  df = df.drop(['authors','link','date'],axis=1)\n",
        "  df['category'] = df.category.map({'ENTERTAINMENT':0, 'POLITICS': 1, 'TECH':2})\n",
        "  df = df.dropna()\n",
        "  return df\n",
        "\n",
        "df = read_json()\n",
        "df.head()"
      ],
      "execution_count": 5,
      "outputs": [
        {
          "output_type": "execute_result",
          "data": {
            "text/html": [
              "<div>\n",
              "<style scoped>\n",
              "    .dataframe tbody tr th:only-of-type {\n",
              "        vertical-align: middle;\n",
              "    }\n",
              "\n",
              "    .dataframe tbody tr th {\n",
              "        vertical-align: top;\n",
              "    }\n",
              "\n",
              "    .dataframe thead th {\n",
              "        text-align: right;\n",
              "    }\n",
              "</style>\n",
              "<table border=\"1\" class=\"dataframe\">\n",
              "  <thead>\n",
              "    <tr style=\"text-align: right;\">\n",
              "      <th></th>\n",
              "      <th>category</th>\n",
              "      <th>headline</th>\n",
              "      <th>short_description</th>\n",
              "    </tr>\n",
              "  </thead>\n",
              "  <tbody>\n",
              "    <tr>\n",
              "      <th>1</th>\n",
              "      <td>0.0</td>\n",
              "      <td>Will Smith Joins Diplo And Nicky Jam For The 2...</td>\n",
              "      <td>Of course it has a song.</td>\n",
              "    </tr>\n",
              "    <tr>\n",
              "      <th>2</th>\n",
              "      <td>0.0</td>\n",
              "      <td>Hugh Grant Marries For The First Time At Age 57</td>\n",
              "      <td>The actor and his longtime girlfriend Anna Ebe...</td>\n",
              "    </tr>\n",
              "    <tr>\n",
              "      <th>3</th>\n",
              "      <td>0.0</td>\n",
              "      <td>Jim Carrey Blasts 'Castrato' Adam Schiff And D...</td>\n",
              "      <td>The actor gives Dems an ass-kicking for not fi...</td>\n",
              "    </tr>\n",
              "    <tr>\n",
              "      <th>4</th>\n",
              "      <td>0.0</td>\n",
              "      <td>Julianna Margulies Uses Donald Trump Poop Bags...</td>\n",
              "      <td>The \"Dietland\" actress said using the bags is ...</td>\n",
              "    </tr>\n",
              "    <tr>\n",
              "      <th>5</th>\n",
              "      <td>0.0</td>\n",
              "      <td>Morgan Freeman 'Devastated' That Sexual Harass...</td>\n",
              "      <td>\"It is not right to equate horrific incidents ...</td>\n",
              "    </tr>\n",
              "  </tbody>\n",
              "</table>\n",
              "</div>"
            ],
            "text/plain": [
              "   category  ...                                  short_description\n",
              "1       0.0  ...                           Of course it has a song.\n",
              "2       0.0  ...  The actor and his longtime girlfriend Anna Ebe...\n",
              "3       0.0  ...  The actor gives Dems an ass-kicking for not fi...\n",
              "4       0.0  ...  The \"Dietland\" actress said using the bags is ...\n",
              "5       0.0  ...  \"It is not right to equate horrific incidents ...\n",
              "\n",
              "[5 rows x 3 columns]"
            ]
          },
          "metadata": {
            "tags": []
          },
          "execution_count": 5
        }
      ]
    },
    {
      "cell_type": "code",
      "metadata": {
        "id": "VRb5exa2OpYG",
        "outputId": "741af353-13b0-4e9a-9494-8c057caed80b",
        "colab": {
          "base_uri": "https://localhost:8080/"
        }
      },
      "source": [
        "from sklearn.model_selection import train_test_split\n",
        "from sklearn.feature_extraction.text import CountVectorizer\n",
        "from sklearn.naive_bayes import MultinomialNB\n",
        "from sklearn.metrics import confusion_matrix\n",
        "from sklearn.metrics import accuracy_score, precision_score, recall_score, f1_score\n",
        "\n",
        "def headline_training():\n",
        "  df = read_json()\n",
        "  headline_train, headline_test, label_train, label_test = train_test_split(df['headline'],df['category'],random_state=1)\n",
        "  count_vector = CountVectorizer()\n",
        "  training_data = count_vector.fit_transform(headline_train)\n",
        "  testing_data = count_vector.transform(headline_test)\n",
        "  naive_bayes = MultinomialNB()\n",
        "  naive_bayes.fit(training_data, label_train)\n",
        "  predictions = naive_bayes.predict(testing_data)\n",
        "  print(\"Accuracy:\", format(accuracy_score(label_test,predictions)))\n",
        "  #print(\"Precision:\", format(precision_score(label_test,predictions, average='weighted')))\n",
        "  #print(\"Recall:\", format(recall_score(label_test,predictions, average='weighted')))\n",
        "  print(\"F1 Score:\", format(f1_score(label_test,predictions, average='weighted')))\n",
        "\n",
        "def short_description_training():\n",
        "  df = read_json()\n",
        "  headline_train, headline_test, label_train, label_test = train_test_split(df['short_description'],df['category'],random_state=1)\n",
        "  count_vector = CountVectorizer()\n",
        "  training_data = count_vector.fit_transform(headline_train)\n",
        "  testing_data = count_vector.transform(headline_test)\n",
        "  naive_bayes = MultinomialNB()\n",
        "  naive_bayes.fit(training_data, label_train)\n",
        "  predictions = naive_bayes.predict(testing_data)\n",
        "  print(\"Accuracy:\", format(accuracy_score(label_test,predictions)))\n",
        "  #print(\"Precision:\", format(precision_score(label_test,predictions, average='weighted')))\n",
        "  #print(\"Recall:\", format(recall_score(label_test,predictions, average='weighted')))\n",
        "  print(\"F1 Score:\", format(f1_score(label_test,predictions, average='weighted')))\n",
        "\n",
        "print(\"Headline\")\n",
        "headline_training()\n",
        "\n",
        "print(\"Short Description\")\n",
        "short_description_training()"
      ],
      "execution_count": 9,
      "outputs": [
        {
          "output_type": "stream",
          "text": [
            "Headline\n",
            "Accuracy: 0.9229559748427673\n",
            "F1 Score: 0.9179444557700616\n",
            "Short Description\n",
            "Accuracy: 0.8053459119496855\n",
            "F1 Score: 0.7902586919241433\n"
          ],
          "name": "stdout"
        }
      ]
    }
  ]
}